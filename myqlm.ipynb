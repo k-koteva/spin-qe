{
 "cells": [
  {
   "cell_type": "code",
   "execution_count": null,
   "metadata": {},
   "outputs": [],
   "source": []
  },
  {
   "cell_type": "code",
   "execution_count": 1,
   "metadata": {},
   "outputs": [
    {
     "ename": "ImportError",
     "evalue": "dlopen(/Users/konstantinakoteva/projects/spin-qe/.venv/lib/python3.11/site-packages/qat/clinalg/wrapper.so, 0x0002): Library not loaded: /usr/local/lib/libomp.dylib\n  Referenced from: <28BC3F9A-7A09-325B-AC3F-82C2DE32AC19> /Users/konstantinakoteva/projects/spin-qe/.venv/lib/python3.11/site-packages/qat/clinalg/libqatclinalg.so\n  Reason: tried: '/usr/local/lib/libomp.dylib' (no such file), '/System/Volumes/Preboot/Cryptexes/OS/usr/local/lib/libomp.dylib' (no such file), '/usr/local/lib/libomp.dylib' (no such file), '/usr/lib/libomp.dylib' (no such file, not in dyld cache)Library not loaded: /usr/local/lib/libomp.dylib\n  Referenced from: <5D424A24-62EE-35A5-9F07-243553533324> /Users/konstantinakoteva/projects/spin-qe/.venv/lib/python3.11/site-packages/qat/clinalg/libqatclinalg_gpu.so\n  Reason: tried: '/usr/local/lib/libomp.dylib' (no such file), '/System/Volumes/Preboot/Cryptexes/OS/usr/local/lib/libomp.dylib' (no such file), '/usr/local/lib/libomp.dylib' (no such file), '/usr/lib/libomp.dylib' (no such file, not in dyld cache)",
     "output_type": "error",
     "traceback": [
      "\u001b[0;31m---------------------------------------------------------------------------\u001b[0m",
      "\u001b[0;31mImportError\u001b[0m                               Traceback (most recent call last)",
      "\u001b[1;32mUntitled-1.ipynb Cell 2\u001b[0m line \u001b[0;36m8\n\u001b[1;32m      <a href='vscode-notebook-cell:Untitled-1.ipynb?jupyter-notebook#W1sdW50aXRsZWQ%3D?line=4'>5</a>\u001b[0m     H(\u001b[39m0\u001b[39m)\n\u001b[1;32m      <a href='vscode-notebook-cell:Untitled-1.ipynb?jupyter-notebook#W1sdW50aXRsZWQ%3D?line=5'>6</a>\u001b[0m     CNOT(\u001b[39m0\u001b[39m, \u001b[39m1\u001b[39m)\n\u001b[0;32m----> <a href='vscode-notebook-cell:Untitled-1.ipynb?jupyter-notebook#W1sdW50aXRsZWQ%3D?line=7'>8</a>\u001b[0m result \u001b[39m=\u001b[39m bell_pair()\u001b[39m.\u001b[39;49mrun()\n\u001b[1;32m     <a href='vscode-notebook-cell:Untitled-1.ipynb?jupyter-notebook#W1sdW50aXRsZWQ%3D?line=9'>10</a>\u001b[0m \u001b[39mfor\u001b[39;00m sample \u001b[39min\u001b[39;00m result:\n\u001b[1;32m     <a href='vscode-notebook-cell:Untitled-1.ipynb?jupyter-notebook#W1sdW50aXRsZWQ%3D?line=10'>11</a>\u001b[0m     \u001b[39mprint\u001b[39m(\u001b[39mf\u001b[39m\u001b[39m\"\u001b[39m\u001b[39mState \u001b[39m\u001b[39m{\u001b[39;00msample\u001b[39m.\u001b[39mstate\u001b[39m}\u001b[39;00m\u001b[39m amplitude \u001b[39m\u001b[39m{\u001b[39;00msample\u001b[39m.\u001b[39mamplitude\u001b[39m}\u001b[39;00m\u001b[39m\"\u001b[39m)\n",
      "File \u001b[0;32mcircuit.py:628\u001b[0m, in \u001b[0;36mqat.core.wrappers.circuit.Circuit.run\u001b[0;34m()\u001b[0m\n",
      "File \u001b[0;32mjob.py:498\u001b[0m, in \u001b[0;36mqat.core.wrappers.job.Job.run\u001b[0;34m()\u001b[0m\n",
      "File \u001b[0;32mqlmaas.py:65\u001b[0m, in \u001b[0;36mqat.core.qlmaas.get_default_qpu\u001b[0;34m()\u001b[0m\n",
      "File \u001b[0;32m__init__.py:179\u001b[0m, in \u001b[0;36mqat.modules.__init__._QLMServiceModule._get_default_qpu\u001b[0;34m()\u001b[0m\n",
      "File \u001b[0;32m__init__.py:159\u001b[0m, in \u001b[0;36mqat.modules.__init__._QLMServiceModule._build_default_qpu\u001b[0;34m()\u001b[0m\n",
      "File \u001b[0;32m__init__.py:199\u001b[0m, in \u001b[0;36mqat.modules.__init__._QLMServiceModule.__getattr__\u001b[0;34m()\u001b[0m\n",
      "File \u001b[0;32mloader.py:52\u001b[0m, in \u001b[0;36mqat.core.loader.load_object\u001b[0;34m()\u001b[0m\n",
      "File \u001b[0;32mloader.py:43\u001b[0m, in \u001b[0;36mqat.core.loader.load_object\u001b[0;34m()\u001b[0m\n",
      "File \u001b[0;32m~/.pyenv/versions/3.11.4/lib/python3.11/importlib/__init__.py:126\u001b[0m, in \u001b[0;36mimport_module\u001b[0;34m(name, package)\u001b[0m\n\u001b[1;32m    124\u001b[0m             \u001b[39mbreak\u001b[39;00m\n\u001b[1;32m    125\u001b[0m         level \u001b[39m+\u001b[39m\u001b[39m=\u001b[39m \u001b[39m1\u001b[39m\n\u001b[0;32m--> 126\u001b[0m \u001b[39mreturn\u001b[39;00m _bootstrap\u001b[39m.\u001b[39;49m_gcd_import(name[level:], package, level)\n",
      "File \u001b[0;32m<frozen importlib._bootstrap>:1204\u001b[0m, in \u001b[0;36m_gcd_import\u001b[0;34m(name, package, level)\u001b[0m\n",
      "File \u001b[0;32m<frozen importlib._bootstrap>:1176\u001b[0m, in \u001b[0;36m_find_and_load\u001b[0;34m(name, import_)\u001b[0m\n",
      "File \u001b[0;32m<frozen importlib._bootstrap>:1126\u001b[0m, in \u001b[0;36m_find_and_load_unlocked\u001b[0;34m(name, import_)\u001b[0m\n",
      "File \u001b[0;32m<frozen importlib._bootstrap>:241\u001b[0m, in \u001b[0;36m_call_with_frames_removed\u001b[0;34m(f, *args, **kwds)\u001b[0m\n",
      "File \u001b[0;32m<frozen importlib._bootstrap>:1204\u001b[0m, in \u001b[0;36m_gcd_import\u001b[0;34m(name, package, level)\u001b[0m\n",
      "File \u001b[0;32m<frozen importlib._bootstrap>:1176\u001b[0m, in \u001b[0;36m_find_and_load\u001b[0;34m(name, import_)\u001b[0m\n",
      "File \u001b[0;32m<frozen importlib._bootstrap>:1147\u001b[0m, in \u001b[0;36m_find_and_load_unlocked\u001b[0;34m(name, import_)\u001b[0m\n",
      "File \u001b[0;32m<frozen importlib._bootstrap>:690\u001b[0m, in \u001b[0;36m_load_unlocked\u001b[0;34m(spec)\u001b[0m\n",
      "File \u001b[0;32m<frozen importlib._bootstrap_external>:1241\u001b[0m, in \u001b[0;36mexec_module\u001b[0;34m(self, module)\u001b[0m\n",
      "File \u001b[0;32m<frozen importlib._bootstrap>:241\u001b[0m, in \u001b[0;36m_call_with_frames_removed\u001b[0;34m(f, *args, **kwds)\u001b[0m\n",
      "File \u001b[0;32m__init__.py:18\u001b[0m, in \u001b[0;36minit qat.clinalg.__init__\u001b[0;34m()\u001b[0m\n",
      "File \u001b[0;32mqpu.py:24\u001b[0m, in \u001b[0;36minit qat.clinalg.qpu\u001b[0;34m()\u001b[0m\n",
      "\u001b[0;31mImportError\u001b[0m: dlopen(/Users/konstantinakoteva/projects/spin-qe/.venv/lib/python3.11/site-packages/qat/clinalg/wrapper.so, 0x0002): Library not loaded: /usr/local/lib/libomp.dylib\n  Referenced from: <28BC3F9A-7A09-325B-AC3F-82C2DE32AC19> /Users/konstantinakoteva/projects/spin-qe/.venv/lib/python3.11/site-packages/qat/clinalg/libqatclinalg.so\n  Reason: tried: '/usr/local/lib/libomp.dylib' (no such file), '/System/Volumes/Preboot/Cryptexes/OS/usr/local/lib/libomp.dylib' (no such file), '/usr/local/lib/libomp.dylib' (no such file), '/usr/lib/libomp.dylib' (no such file, not in dyld cache)Library not loaded: /usr/local/lib/libomp.dylib\n  Referenced from: <5D424A24-62EE-35A5-9F07-243553533324> /Users/konstantinakoteva/projects/spin-qe/.venv/lib/python3.11/site-packages/qat/clinalg/libqatclinalg_gpu.so\n  Reason: tried: '/usr/local/lib/libomp.dylib' (no such file), '/System/Volumes/Preboot/Cryptexes/OS/usr/local/lib/libomp.dylib' (no such file), '/usr/local/lib/libomp.dylib' (no such file), '/usr/lib/libomp.dylib' (no such file, not in dyld cache)"
     ]
    }
   ],
   "source": [
    "from qat.lang import qrout, H, CNOT\n",
    "\n",
    "@qrout\n",
    "def bell_pair():\n",
    "    H(0)\n",
    "    CNOT(0, 1)\n",
    "\n",
    "result = bell_pair().run()\n",
    "\n",
    "for sample in result:\n",
    "    print(f\"State {sample.state} amplitude {sample.amplitude}\")"
   ]
  },
  {
   "cell_type": "code",
   "execution_count": null,
   "metadata": {},
   "outputs": [],
   "source": []
  }
 ],
 "metadata": {
  "kernelspec": {
   "display_name": ".venv",
   "language": "python",
   "name": "python3"
  },
  "language_info": {
   "codemirror_mode": {
    "name": "ipython",
    "version": 3
   },
   "file_extension": ".py",
   "mimetype": "text/x-python",
   "name": "python",
   "nbconvert_exporter": "python",
   "pygments_lexer": "ipython3",
   "version": "3.11.4"
  }
 },
 "nbformat": 4,
 "nbformat_minor": 2
}
